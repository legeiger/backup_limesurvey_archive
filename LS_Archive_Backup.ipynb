{
 "cells": [
  {
   "cell_type": "code",
   "execution_count": 2,
   "metadata": {},
   "outputs": [],
   "source": [
    "import httpx\n",
    "from urllib.parse import unquote\n",
    "from bs4 import BeautifulSoup\n",
    "from datetime import datetime\n",
    "\n",
    "import os"
   ]
  },
  {
   "cell_type": "code",
   "execution_count": 5,
   "metadata": {},
   "outputs": [
    {
     "ename": "KeyError",
     "evalue": "'passwod'",
     "output_type": "error",
     "traceback": [
      "\u001b[1;31m---------------------------------------------------------------------------\u001b[0m",
      "\u001b[1;31mKeyError\u001b[0m                                  Traceback (most recent call last)",
      "Input \u001b[1;32mIn [5]\u001b[0m, in \u001b[0;36m<cell line: 4>\u001b[1;34m()\u001b[0m\n\u001b[0;32m      2\u001b[0m host \u001b[38;5;241m=\u001b[39m os\u001b[38;5;241m.\u001b[39menviron[\u001b[38;5;124m'\u001b[39m\u001b[38;5;124mLS_URL\u001b[39m\u001b[38;5;124m'\u001b[39m]\n\u001b[0;32m      3\u001b[0m username \u001b[38;5;241m=\u001b[39m os\u001b[38;5;241m.\u001b[39menviron[\u001b[38;5;124m'\u001b[39m\u001b[38;5;124musername\u001b[39m\u001b[38;5;124m'\u001b[39m]\n\u001b[1;32m----> 4\u001b[0m password \u001b[38;5;241m=\u001b[39m \u001b[43mos\u001b[49m\u001b[38;5;241;43m.\u001b[39;49m\u001b[43menviron\u001b[49m\u001b[43m[\u001b[49m\u001b[38;5;124;43m'\u001b[39;49m\u001b[38;5;124;43mpasswod\u001b[39;49m\u001b[38;5;124;43m'\u001b[39;49m\u001b[43m]\u001b[49m\n\u001b[0;32m      6\u001b[0m file_save_path \u001b[38;5;241m=\u001b[39m \u001b[38;5;124mr\u001b[39m\u001b[38;5;124m'\u001b[39m\u001b[38;5;124m/data\u001b[39m\u001b[38;5;124m'\u001b[39m\n",
      "File \u001b[1;32mc:\\Program Files\\Python39\\lib\\os.py:679\u001b[0m, in \u001b[0;36m_Environ.__getitem__\u001b[1;34m(self, key)\u001b[0m\n\u001b[0;32m    676\u001b[0m     value \u001b[38;5;241m=\u001b[39m \u001b[38;5;28mself\u001b[39m\u001b[38;5;241m.\u001b[39m_data[\u001b[38;5;28mself\u001b[39m\u001b[38;5;241m.\u001b[39mencodekey(key)]\n\u001b[0;32m    677\u001b[0m \u001b[38;5;28;01mexcept\u001b[39;00m \u001b[38;5;167;01mKeyError\u001b[39;00m:\n\u001b[0;32m    678\u001b[0m     \u001b[38;5;66;03m# raise KeyError with the original key value\u001b[39;00m\n\u001b[1;32m--> 679\u001b[0m     \u001b[38;5;28;01mraise\u001b[39;00m \u001b[38;5;167;01mKeyError\u001b[39;00m(key) \u001b[38;5;28;01mfrom\u001b[39;00m \u001b[38;5;28mNone\u001b[39m\n\u001b[0;32m    680\u001b[0m \u001b[38;5;28;01mreturn\u001b[39;00m \u001b[38;5;28mself\u001b[39m\u001b[38;5;241m.\u001b[39mdecodevalue(value)\n",
      "\u001b[1;31mKeyError\u001b[0m: 'passwod'"
     ]
    }
   ],
   "source": [
    "host = os.environ['LS_URL']\n",
    "username = os.environ['username']\n",
    "password = os.environ['passwod']\n",
    "\n",
    "file_save_path = r'/data'\n",
    "\n",
    "\n",
    "# $env:LS_URL = 'https://befragungen.isv.uni-stuttgart.de'"
   ]
  },
  {
   "cell_type": "code",
   "execution_count": 3,
   "metadata": {},
   "outputs": [],
   "source": [
    "headers = {\n",
    "\"Accept-Encoding\" : \"gzip, deflate, br\",\n",
    "\"Accept-Language\" : \"de,en-US;q=0.7,en;q=0.3\",\n",
    "\"Connection\" : \"keep-alive\",\n",
    "\"DNT\" : \"1\",\n",
    "\"Host\" : \"befragungen.isv.uni-stuttgart.de\",\n",
    "\"Sec-Fetch-Dest\" : \"document\",\n",
    "\"Sec-Fetch-Mode\" : \"navigate\",\n",
    "\"Sec-Fetch-Site\" : \"same-origin\",\n",
    "\"User-Agent\" : \"Mozilla/5.0 (Windows NT 10.0; Win64; x64; rv:103.0) Gecko/20100101 Firefox/103.0\"\n",
    "}"
   ]
  },
  {
   "cell_type": "code",
   "execution_count": 4,
   "metadata": {},
   "outputs": [],
   "source": [
    "url = r'https://befragungen.isv.uni-stuttgart.de/index.php/admin/authentication/sa/login'"
   ]
  },
  {
   "cell_type": "code",
   "execution_count": 5,
   "metadata": {},
   "outputs": [],
   "source": [
    "r = httpx.get(url, headers=headers)"
   ]
  },
  {
   "cell_type": "code",
   "execution_count": 6,
   "metadata": {},
   "outputs": [
    {
     "data": {
      "text/plain": [
       "'NDV5N0llS1E4bEV6TkZ0WmpNdllTaWxmRnNxRnpid3o2fpYJD7sTwrSc9vLYacWqmIEPgcBJq7c9hBaO7NTqPg=='"
      ]
     },
     "execution_count": 6,
     "metadata": {},
     "output_type": "execute_result"
    }
   ],
   "source": [
    "unquote(r.cookies['YII_CSRF_TOKEN'])"
   ]
  },
  {
   "cell_type": "code",
   "execution_count": 44,
   "metadata": {},
   "outputs": [
    {
     "name": "stdout",
     "output_type": "stream",
     "text": [
      "<Response [302 Found]> 302 <Cookies[<Cookie PHPSESSID=0061d1d12fcfda7d0f3538012c41e10d for befragungen.isv.uni-stuttgart.de />]> Headers([('server', 'nginx/1.19.10'), ('date', 'Wed, 10 Aug 2022 13:28:09 GMT'), ('content-type', 'text/html; charset=UTF-8'), ('content-length', '0'), ('connection', 'keep-alive'), ('x-powered-by', 'PHP/7.4.30'), ('expires', 'Thu, 19 Nov 1981 08:52:00 GMT'), ('cache-control', 'no-store, no-cache, must-revalidate'), ('pragma', 'no-cache'), ('set-cookie', 'YII_CSRF_TOKEN=deleted; expires=Thu, 01-Jan-1970 00:00:01 GMT; Max-Age=0; path=/; SameSite=Lax'), ('set-cookie', 'YII_CSRF_TOKEN=deleted; expires=Thu, 01-Jan-1970 00:00:01 GMT; Max-Age=0; path=/; SameSite=Lax'), ('set-cookie', 'PHPSESSID=0061d1d12fcfda7d0f3538012c41e10d; path=/; HttpOnly'), ('location', 'https://befragungen.isv.uni-stuttgart.de/index.php/admin/index'), ('strict-transport-security', 'max-age=31536000')])\n",
      "<Response [200 OK]> 200 <Cookies[<Cookie YII_CSRF_TOKEN=Z2VRdHpwdVQxTl9sdHhQSTlEd0xRRW94NWI4YmRiWDEDsIJKkEm_PMEX1ntWquxxpDiiqe0becEmhHLwnoeMGA%3D%3D for befragungen.isv.uni-stuttgart.de />]> Headers({'server': 'nginx/1.19.10', 'date': 'Wed, 10 Aug 2022 13:28:10 GMT', 'content-type': 'text/html; charset=UTF-8', 'content-length': '10067', 'connection': 'keep-alive', 'x-powered-by': 'PHP/7.4.30', 'expires': 'Thu, 19 Nov 1981 08:52:00 GMT', 'cache-control': 'no-store, no-cache, must-revalidate', 'pragma': 'no-cache', 'set-cookie': 'YII_CSRF_TOKEN=Z2VRdHpwdVQxTl9sdHhQSTlEd0xRRW94NWI4YmRiWDEDsIJKkEm_PMEX1ntWquxxpDiiqe0becEmhHLwnoeMGA%3D%3D; path=/; HttpOnly; SameSite=Lax', 'vary': 'Accept-Encoding', 'content-encoding': 'gzip', 'strict-transport-security': 'max-age=31536000'})\n"
     ]
    }
   ],
   "source": [
    "with httpx.Client() as client:\n",
    "    r = client.get(url, headers=headers)    \n",
    "    TOKEN = unquote(r.cookies['YII_CSRF_TOKEN'])\n",
    "    PHPSESSID = unquote(r.cookies['PHPSESSID'])\n",
    "    # print(r.cookies)\n",
    "    form_data = {\n",
    "    \"YII_CSRF_TOKEN\": TOKEN,\n",
    "    \"PHPSESSID\": PHPSESSID,\n",
    "    \"authMethod\": \"Authdb\",\n",
    "    \"user\": \"LGeiger\",\n",
    "    \"password\": \"663cÄB8a3b9B,._cf5#3µFV33a1c3e\",\n",
    "    \"loginlang\": \"default\",\n",
    "    \"action\": \"login\",\n",
    "    \"width\": \"1825\",\n",
    "    \"login_submit\": \"login\"\n",
    "    }\n",
    "    r = client.post(url, data=form_data, headers=headers)\n",
    "    PHPSESSID = unquote(r.cookies['PHPSESSID'])\n",
    "    print(r, r.status_code, r.cookies, r.headers)\n",
    "    r = client.get('https://befragungen.isv.uni-stuttgart.de/index.php/admin/survey/sa/listsurveys', headers=headers)\n",
    "    print(r, r.status_code, r.cookies, r.headers)\n",
    "    soup = BeautifulSoup(r.text, \"html.parser\")\n",
    "    data = soup.find('table', class_=\"table-striped table\").findAll('td', class_=\"hidden-xs has-link\")\n",
    "    surveys = []\n",
    "    for d in data:\n",
    "        try:\n",
    "            surveys.append(int(d.text))\n",
    "        except ValueError:\n",
    "            pass\n",
    "    for id in surveys:\n",
    "        dl_url  = \"https://befragungen.isv.uni-stuttgart.de/index.php/admin/export/sa/survey/action/exportarchive/surveyid/{id}\".format(id=id)\n",
    "        r = client.get(dl_url, headers=headers)\n",
    "        # Save file data to local copy survey_archive_819872.lsa\n",
    "        with open(\"survey_archive_\" + str(id) + '.lsa', 'wb') as file:\n",
    "            for chunk in r.iter_bytes(1024):\n",
    "                file.write(chunk)"
   ]
  }
 ],
 "metadata": {
  "kernelspec": {
   "display_name": "Python 3.9.11 64-bit",
   "language": "python",
   "name": "python3"
  },
  "language_info": {
   "codemirror_mode": {
    "name": "ipython",
    "version": 3
   },
   "file_extension": ".py",
   "mimetype": "text/x-python",
   "name": "python",
   "nbconvert_exporter": "python",
   "pygments_lexer": "ipython3",
   "version": "3.9.11"
  },
  "orig_nbformat": 4,
  "vscode": {
   "interpreter": {
    "hash": "11938c6bc6919ae2720b4d5011047913343b08a43b18698fd82dedb0d4417594"
   }
  }
 },
 "nbformat": 4,
 "nbformat_minor": 2
}
